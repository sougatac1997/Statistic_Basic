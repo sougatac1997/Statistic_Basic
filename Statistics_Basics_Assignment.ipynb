{
  "cells": [
    {
      "cell_type": "markdown",
      "id": "2eacc036",
      "metadata": {
        "id": "2eacc036"
      },
      "source": [
        "# Assignment: Statistics Basics"
      ]
    },
    {
      "cell_type": "markdown",
      "id": "8b6ee889",
      "metadata": {
        "id": "8b6ee889"
      },
      "source": [
        "## Theory Questions"
      ]
    },
    {
      "cell_type": "markdown",
      "id": "a1f68069",
      "metadata": {
        "id": "a1f68069"
      },
      "source": [
        "### Q1. What is statistics, and why is it important?\n",
        "\n",
        "**Answer:**\n",
        "Statistics is the science of collecting, organizing, analyzing, and interpreting numerical data to make informed decisions. It is important because it allows us to understand patterns, test hypotheses, and make predictions in almost every field—business, healthcare, government, engineering, and the social sciences."
      ]
    },
    {
      "cell_type": "markdown",
      "id": "58290de8",
      "metadata": {
        "id": "58290de8"
      },
      "source": [
        "### Q2. What are the two main types of statistics?\n",
        "\n",
        "**Answer:**\n",
        "The two main branches are **descriptive statistics** (summarizing data) and **inferential statistics** (drawing conclusions about a population from a sample)."
      ]
    },
    {
      "cell_type": "markdown",
      "id": "d41f1b29",
      "metadata": {
        "id": "d41f1b29"
      },
      "source": [
        "### Q3. What are descriptive statistics?\n",
        "\n",
        "**Answer:**\n",
        "Descriptive statistics are methods for summarizing raw data into meaningful forms—such as tables, charts, averages, and variability measures—so that the main features of a dataset can be quickly understood."
      ]
    },
    {
      "cell_type": "markdown",
      "id": "b24ac43d",
      "metadata": {
        "id": "b24ac43d"
      },
      "source": [
        "### Q4. What is inferential statistics?\n",
        "\n",
        "**Answer:**\n",
        "Inferential statistics use sample data to make generalizations or predictions about a larger population, often through estimation (confidence intervals) and hypothesis testing."
      ]
    },
    {
      "cell_type": "markdown",
      "id": "7e75501a",
      "metadata": {
        "id": "7e75501a"
      },
      "source": [
        "### Q5. What is sampling in statistics?\n",
        "\n",
        "**Answer:**\n",
        "Sampling is the process of selecting a subset (sample) from a larger group (population) to estimate characteristics of the whole population."
      ]
    },
    {
      "cell_type": "markdown",
      "id": "e6244248",
      "metadata": {
        "id": "e6244248"
      },
      "source": [
        "### Q6. What are the different types of sampling methods?\n",
        "\n",
        "**Answer:**\n",
        "Common sampling methods include **simple random sampling, systematic sampling, stratified sampling, cluster sampling, convenience sampling,** and **snowball sampling**."
      ]
    },
    {
      "cell_type": "markdown",
      "id": "63db0dec",
      "metadata": {
        "id": "63db0dec"
      },
      "source": [
        "### Q7. What is the difference between random and non‑random sampling?\n",
        "\n",
        "**Answer:**\n",
        "Random sampling selects units so that each has a known, non‑zero chance of selection, reducing bias; non‑random sampling does not rely on chance and may introduce selection bias."
      ]
    },
    {
      "cell_type": "markdown",
      "id": "23116f74",
      "metadata": {
        "id": "23116f74"
      },
      "source": [
        "### Q8. Define and give examples of qualitative and quantitative data.\n",
        "\n",
        "**Answer:**\n",
        "**Qualitative (categorical) data** describe qualities or categories (e.g., gender, eye color); **quantitative (numerical) data** measure quantities (e.g., height in cm, weight in kg)."
      ]
    },
    {
      "cell_type": "markdown",
      "id": "a39bd8c2",
      "metadata": {
        "id": "a39bd8c2"
      },
      "source": [
        "### Q9. What are the different types of data in statistics?\n",
        "\n",
        "**Answer:**\n",
        "Data types: **nominal, ordinal, interval,** and **ratio** levels of measurement;"
      ]
    },
    {
      "cell_type": "markdown",
      "id": "fed2838a",
      "metadata": {
        "id": "fed2838a"
      },
      "source": [
        "### Q10. Explain nominal, ordinal, interval, and ratio levels of measurement.\n",
        "\n",
        "**Answer:**\n",
        "**Nominal**: categories with no order (blood type). **Ordinal**: ordered categories (Likert scale). **Interval**: ordered, equal intervals, no true zero (temperature in °C). **Ratio**: ordered, equal intervals, true zero (weight, length)."
      ]
    },
    {
      "cell_type": "markdown",
      "id": "c34af59f",
      "metadata": {
        "id": "c34af59f"
      },
      "source": [
        "### Q11. What is the measure of central tendency?\n",
        "\n",
        "**Answer:**\n",
        "Measures of central tendency identify the center of a distribution and include the mean, median, and mode."
      ]
    },
    {
      "cell_type": "markdown",
      "id": "ad82ca75",
      "metadata": {
        "id": "ad82ca75"
      },
      "source": [
        "### Q12. Define mean, median, and mode.\n",
        "\n",
        "**Answer:**\n",
        "- **Mean**: arithmetic average.\n",
        "- **Median**: middle value when data are ordered.\n",
        "- **Mode**: most frequently occurring value."
      ]
    },
    {
      "cell_type": "markdown",
      "id": "866db2b8",
      "metadata": {
        "id": "866db2b8"
      },
      "source": [
        "### Q13. What is the significance of the measure of central tendency?\n",
        "\n",
        "**Answer:**\n",
        "They provide a single representative value that summarizes a dataset, aiding comparison between groups and simplifying complex data."
      ]
    },
    {
      "cell_type": "markdown",
      "id": "ebdb9997",
      "metadata": {
        "id": "ebdb9997"
      },
      "source": [
        "### Q14. What is variance, and how is it calculated?\n",
        "\n",
        "**Answer:**\n",
        "Variance measures average squared deviations from the mean: \\(\\sigma^2 = \\frac{\\sum (x_i - \\mu)^2}{N}\\) for a population or \\(s^2 = \\frac{\\sum (x_i - \\bar{x})^2}{n-1}\\) for a sample."
      ]
    },
    {
      "cell_type": "markdown",
      "id": "9afa46bd",
      "metadata": {
        "id": "9afa46bd"
      },
      "source": [
        "### Q15. What is standard deviation, and why is it important?\n",
        "\n",
        "**Answer:**\n",
        "Standard deviation is the square root of variance; it re‑expresses variability in the original units, making dispersion easier to interpret."
      ]
    },
    {
      "cell_type": "markdown",
      "id": "348f928f",
      "metadata": {
        "id": "348f928f"
      },
      "source": [
        "### Q16. Define and explain the term range in statistics.\n",
        "\n",
        "**Answer:**\n",
        "Range = Maximum − Minimum; it measures the total spread of the data."
      ]
    },
    {
      "cell_type": "markdown",
      "id": "7fee4e9d",
      "metadata": {
        "id": "7fee4e9d"
      },
      "source": [
        "### Q17. What is the difference between variance and standard deviation?\n",
        "\n",
        "**Answer:**\n",
        "Variance squares deviations, while standard deviation is its square root, expressed in the same units as the data—often easier to interpret."
      ]
    },
    {
      "cell_type": "markdown",
      "id": "0ea9c113",
      "metadata": {
        "id": "0ea9c113"
      },
      "source": [
        "### Q18. What is skewness in a dataset?\n",
        "\n",
        "**Answer:**\n",
        "Skewness quantifies the asymmetry of a distribution around its mean."
      ]
    },
    {
      "cell_type": "markdown",
      "id": "0167868e",
      "metadata": {
        "id": "0167868e"
      },
      "source": [
        "### Q19. What does it mean if a dataset is positively or negatively skewed?\n",
        "\n",
        "**Answer:**\n",
        "Positive skew: long tail to the right; negative skew: long tail to the left."
      ]
    },
    {
      "cell_type": "markdown",
      "id": "0190a369",
      "metadata": {
        "id": "0190a369"
      },
      "source": [
        "### Q20. Define and explain kurtosis.\n",
        "\n",
        "**Answer:**\n",
        "Kurtosis describes the heaviness of tails and peakedness relative to the normal distribution: **leptokurtic** (heavy tails), **platykurtic** (light tails), **mesokurtic** (normal)."
      ]
    },
    {
      "cell_type": "markdown",
      "id": "b111ba64",
      "metadata": {
        "id": "b111ba64"
      },
      "source": [
        "### Q21. What is the purpose of covariance?\n",
        "\n",
        "**Answer:**\n",
        "Covariance indicates the direction of the linear relationship between two variables (positive, negative, or none)."
      ]
    },
    {
      "cell_type": "markdown",
      "id": "f448eea4",
      "metadata": {
        "id": "f448eea4"
      },
      "source": [
        "### Q22. What does correlation measure in statistics?\n",
        "\n",
        "**Answer:**\n",
        "Correlation measures both the strength **and** direction of a linear relationship on a standardized scale (−1 to +1)."
      ]
    },
    {
      "cell_type": "markdown",
      "id": "ce50a3e2",
      "metadata": {
        "id": "ce50a3e2"
      },
      "source": [
        "### Q23. What is the difference between covariance and correlation?\n",
        "\n",
        "**Answer:**\n",
        "Covariance is unstandardized and scale‑dependent; correlation standardizes covariance, making comparisons across datasets possible."
      ]
    },
    {
      "cell_type": "markdown",
      "id": "9b5b1e35",
      "metadata": {
        "id": "9b5b1e35"
      },
      "source": [
        "### Q24. What are some real‑world applications of statistics?\n",
        "\n",
        "**Answer:**\n",
        "Statistics underpin quality control, clinical trials, market research, risk management, sports analytics, and public‑policy decision‑making."
      ]
    },
    {
      "cell_type": "markdown",
      "id": "ce748eb7",
      "metadata": {
        "id": "ce748eb7"
      },
      "source": [
        "## Practical Questions"
      ]
    },
    {
      "cell_type": "markdown",
      "id": "1ba74736",
      "metadata": {
        "id": "1ba74736"
      },
      "source": [
        "### Practical Q1. How do you calculate the mean, median, and mode of a dataset?"
      ]
    },
    {
      "cell_type": "code",
      "execution_count": null,
      "id": "c2aa514f",
      "metadata": {
        "id": "c2aa514f"
      },
      "outputs": [],
      "source": [
        "import numpy as np, pandas as pd, scipy.stats as stats\n",
        "data = [12, 15, 14, 10, 12, 13, 18]\n",
        "mean = np.mean(data)\n",
        "median = np.median(data)\n",
        "mode = stats.mode(data, keepdims=False).mode\n",
        "print(mean, median, mode)"
      ]
    },
    {
      "cell_type": "markdown",
      "id": "56a5aa2a",
      "metadata": {
        "id": "56a5aa2a"
      },
      "source": [
        "### Practical Q2. Write a Python program to compute the variance and standard deviation of a dataset."
      ]
    },
    {
      "cell_type": "code",
      "execution_count": null,
      "id": "f1df3a03",
      "metadata": {
        "id": "f1df3a03"
      },
      "outputs": [],
      "source": [
        "import numpy as np\n",
        "data = np.array([12, 15, 14, 10, 12, 13, 18])\n",
        "variance = np.var(data, ddof=1)\n",
        "std = np.std(data, ddof=1)\n",
        "print(variance, std)"
      ]
    },
    {
      "cell_type": "markdown",
      "id": "b005ad54",
      "metadata": {
        "id": "b005ad54"
      },
      "source": [
        "### Practical Q3. Create a dataset and classify it into nominal, ordinal, interval, and ratio types."
      ]
    },
    {
      "cell_type": "code",
      "execution_count": null,
      "id": "20a79c80",
      "metadata": {
        "id": "20a79c80"
      },
      "outputs": [],
      "source": [
        "# Example classifications\n",
        "dataset = {\n",
        "    'blood_type': ['A', 'B', 'O'],  # nominal\n",
        "    'satisfaction': [1, 3, 5],        # ordinal\n",
        "    'temperature': [36.5, 37.0, 38.2],# interval\n",
        "    'weight': [60, 72, 80]            # ratio\n",
        "}\n",
        "print(dataset)"
      ]
    },
    {
      "cell_type": "markdown",
      "id": "6131ecf1",
      "metadata": {
        "id": "6131ecf1"
      },
      "source": [
        "### Practical Q4. Implement sampling techniques like random sampling and stratified sampling."
      ]
    },
    {
      "cell_type": "code",
      "execution_count": null,
      "id": "33b1376c",
      "metadata": {
        "id": "33b1376c"
      },
      "outputs": [],
      "source": [
        "import numpy as np, pandas as pd\n",
        "pop = np.arange(1000)\n",
        "# Simple random sample\n",
        "sample_random = np.random.choice(pop, size=50, replace=False)\n",
        "# Stratified sampling example\n",
        "df = pd.DataFrame({'value': pop, 'group': pop % 10})\n",
        "strata = df.groupby('group', group_keys=False).apply(lambda x: x.sample(5))\n",
        "print(sample_random[:5])\n",
        "print(strata.head())"
      ]
    },
    {
      "cell_type": "markdown",
      "id": "fbe583b6",
      "metadata": {
        "id": "fbe583b6"
      },
      "source": [
        "### Practical Q5. Write a Python function to calculate the range of a dataset."
      ]
    },
    {
      "cell_type": "code",
      "execution_count": null,
      "id": "1cda38b3",
      "metadata": {
        "id": "1cda38b3"
      },
      "outputs": [],
      "source": [
        "def data_range(arr):\n",
        "    return max(arr) - min(arr)\n",
        "print(data_range([4, 8, 15, 16, 23, 42]))"
      ]
    },
    {
      "cell_type": "markdown",
      "id": "6815bf97",
      "metadata": {
        "id": "6815bf97"
      },
      "source": [
        "### Practical Q6. Create a dataset and plot its histogram to visualize skewness."
      ]
    },
    {
      "cell_type": "code",
      "execution_count": null,
      "id": "404928fd",
      "metadata": {
        "id": "404928fd"
      },
      "outputs": [],
      "source": [
        "import matplotlib.pyplot as plt, numpy as np\n",
        "np.random.seed(0)\n",
        "data = np.random.exponential(scale=2, size=1000)\n",
        "plt.hist(data, bins=30)\n",
        "plt.title('Histogram')\n",
        "plt.show()"
      ]
    },
    {
      "cell_type": "markdown",
      "id": "7d2697e9",
      "metadata": {
        "id": "7d2697e9"
      },
      "source": [
        "### Practical Q7. Calculate skewness and kurtosis of a dataset using Python libraries."
      ]
    },
    {
      "cell_type": "code",
      "execution_count": null,
      "id": "af00a36a",
      "metadata": {
        "id": "af00a36a"
      },
      "outputs": [],
      "source": [
        "from scipy.stats import skew, kurtosis\n",
        "import numpy as np\n",
        "np.random.seed(0)\n",
        "data = np.random.normal(size=1000)\n",
        "print('Skew:', skew(data))\n",
        "print('Kurtosis:', kurtosis(data))"
      ]
    },
    {
      "cell_type": "markdown",
      "id": "f78c8baa",
      "metadata": {
        "id": "f78c8baa"
      },
      "source": [
        "### Practical Q8. Generate a dataset and demonstrate positive and negative skewness."
      ]
    },
    {
      "cell_type": "code",
      "execution_count": null,
      "id": "25a8fb87",
      "metadata": {
        "id": "25a8fb87"
      },
      "outputs": [],
      "source": [
        "import numpy as np, matplotlib.pyplot as plt\n",
        "neg_skew = np.random.beta(5, 1, 1000)\n",
        "pos_skew = np.random.beta(1, 5, 1000)\n",
        "plt.hist(neg_skew, bins=30, alpha=0.7, label='Negative')\n",
        "plt.hist(pos_skew, bins=30, alpha=0.7, label='Positive')\n",
        "plt.legend()\n",
        "plt.show()"
      ]
    },
    {
      "cell_type": "markdown",
      "id": "a32111a8",
      "metadata": {
        "id": "a32111a8"
      },
      "source": [
        "### Practical Q9. Write a Python script to calculate covariance between two datasets."
      ]
    },
    {
      "cell_type": "code",
      "execution_count": null,
      "id": "ec2905e3",
      "metadata": {
        "id": "ec2905e3"
      },
      "outputs": [],
      "source": [
        "import numpy as np\n",
        "x = np.random.randn(100)\n",
        "y = np.random.randn(100)\n",
        "cov = np.cov(x, y)[0,1]\n",
        "print('Covariance:', cov)"
      ]
    },
    {
      "cell_type": "markdown",
      "id": "dce656f9",
      "metadata": {
        "id": "dce656f9"
      },
      "source": [
        "### Practical Q10. Write a Python script to calculate the correlation coefficient between two datasets."
      ]
    },
    {
      "cell_type": "code",
      "execution_count": null,
      "id": "1b5bfc9a",
      "metadata": {
        "id": "1b5bfc9a"
      },
      "outputs": [],
      "source": [
        "import numpy as np\n",
        "x = np.random.randn(100)\n",
        "y = np.random.randn(100)\n",
        "coef = np.corrcoef(x, y)[0,1]\n",
        "print('Correlation:', coef)"
      ]
    },
    {
      "cell_type": "markdown",
      "id": "0c5c0180",
      "metadata": {
        "id": "0c5c0180"
      },
      "source": [
        "### Practical Q11. Create a scatter plot to visualize the relationship between two variables."
      ]
    },
    {
      "cell_type": "code",
      "execution_count": null,
      "id": "680cf0c9",
      "metadata": {
        "id": "680cf0c9"
      },
      "outputs": [],
      "source": [
        "import matplotlib.pyplot as plt, numpy as np\n",
        "x = np.random.randn(100)\n",
        "y = 2*x + np.random.randn(100)\n",
        "plt.scatter(x, y)\n",
        "plt.xlabel('x')\n",
        "plt.ylabel('y')\n",
        "plt.show()"
      ]
    },
    {
      "cell_type": "markdown",
      "id": "261b58f7",
      "metadata": {
        "id": "261b58f7"
      },
      "source": [
        "### Practical Q12. Implement and compare simple random sampling and systematic sampling."
      ]
    },
    {
      "cell_type": "code",
      "execution_count": null,
      "id": "7d8a749f",
      "metadata": {
        "id": "7d8a749f"
      },
      "outputs": [],
      "source": [
        "import numpy as np\n",
        "population = np.arange(1, 101)\n",
        "# Simple Random Sampling\n",
        "srs = np.random.choice(population, size=10, replace=False)\n",
        "# Systematic Sampling\n",
        "k = len(population)//10\n",
        "start = np.random.randint(0, k)\n",
        "sys = population[start::k][:10]\n",
        "print('SRS:', srs)\n",
        "print('Systematic:', sys)"
      ]
    },
    {
      "cell_type": "markdown",
      "id": "ad41b314",
      "metadata": {
        "id": "ad41b314"
      },
      "source": [
        "### Practical Q13. Calculate the mean, median, and mode of grouped data."
      ]
    },
    {
      "cell_type": "code",
      "execution_count": null,
      "id": "049943c7",
      "metadata": {
        "id": "049943c7"
      },
      "outputs": [],
      "source": [
        "import pandas as pd\n",
        "bins = [0, 10, 20, 30]\n",
        "labels = ['0-10', '10-20', '20-30']\n",
        "data = [5, 12, 17, 8, 24, 29, 15, 2]\n",
        "cut = pd.cut(data, bins=bins, labels=labels)\n",
        "grouped = pd.DataFrame({'data': data, 'group': cut}).groupby('group')['data']\n",
        "print(grouped.mean(), grouped.median(), grouped.apply(lambda x: x.mode().iat[0]))"
      ]
    },
    {
      "cell_type": "markdown",
      "id": "e83e9d57",
      "metadata": {
        "id": "e83e9d57"
      },
      "source": [
        "### Practical Q14. Simulate data using Python and calculate its central tendency and dispersion."
      ]
    },
    {
      "cell_type": "code",
      "execution_count": null,
      "id": "4274aa21",
      "metadata": {
        "id": "4274aa21"
      },
      "outputs": [],
      "source": [
        "import numpy as np\n",
        "sim = np.random.normal(loc=50, scale=10, size=1000)\n",
        "print('Mean:', np.mean(sim), 'Std:', np.std(sim, ddof=1))"
      ]
    },
    {
      "cell_type": "markdown",
      "id": "32f9e81a",
      "metadata": {
        "id": "32f9e81a"
      },
      "source": [
        "### Practical Q15. Use NumPy or pandas to summarize a dataset’s descriptive statistics."
      ]
    },
    {
      "cell_type": "code",
      "execution_count": null,
      "id": "893a8b44",
      "metadata": {
        "id": "893a8b44"
      },
      "outputs": [],
      "source": [
        "import pandas as pd\n",
        "from scipy import stats\n",
        "import seaborn as sns\n",
        "df = sns.load_dataset('iris')\n",
        "print(df.describe())"
      ]
    },
    {
      "cell_type": "markdown",
      "id": "dc9250ee",
      "metadata": {
        "id": "dc9250ee"
      },
      "source": [
        "### Practical Q16. Plot a boxplot to understand the spread and identify outliers."
      ]
    },
    {
      "cell_type": "code",
      "execution_count": null,
      "id": "13e8445b",
      "metadata": {
        "id": "13e8445b"
      },
      "outputs": [],
      "source": [
        "import seaborn as sns, matplotlib.pyplot as plt\n",
        "df = sns.load_dataset('iris')\n",
        "sns.boxplot(x='species', y='sepal_length', data=df)\n",
        "plt.show()"
      ]
    },
    {
      "cell_type": "markdown",
      "id": "491fdcbb",
      "metadata": {
        "id": "491fdcbb"
      },
      "source": [
        "### Practical Q17. Calculate the interquartile range (IQR) of a dataset."
      ]
    },
    {
      "cell_type": "code",
      "execution_count": null,
      "id": "a4a576af",
      "metadata": {
        "id": "a4a576af"
      },
      "outputs": [],
      "source": [
        "import numpy as np\n",
        "q75, q25 = np.percentile(np.random.randn(100), [75 ,25])\n",
        "print('IQR:', q75 - q25)"
      ]
    },
    {
      "cell_type": "markdown",
      "id": "829d762b",
      "metadata": {
        "id": "829d762b"
      },
      "source": [
        "### Practical Q18. Implement Z‑score normalization and explain its significance."
      ]
    },
    {
      "cell_type": "code",
      "execution_count": null,
      "id": "c24fb214",
      "metadata": {
        "id": "c24fb214"
      },
      "outputs": [],
      "source": [
        "import numpy as np\n",
        "from scipy import stats\n",
        "x = np.random.randn(100)\n",
        "z = stats.zscore(x)\n",
        "print('First 5 Z‑scores:', z[:5])\n",
        "print('Mean of z:', np.mean(z))"
      ]
    },
    {
      "cell_type": "markdown",
      "id": "111f6ee8",
      "metadata": {
        "id": "111f6ee8"
      },
      "source": [
        "### Practical Q19. Compare two datasets using their standard deviations."
      ]
    },
    {
      "cell_type": "code",
      "execution_count": null,
      "id": "f4c13ee4",
      "metadata": {
        "id": "f4c13ee4"
      },
      "outputs": [],
      "source": [
        "import numpy as np\n",
        "set1 = np.random.randn(100)\n",
        "set2 = np.random.randn(100)\n",
        "print('SD1:', np.std(set1, ddof=1), 'SD2:', np.std(set2, ddof=1))"
      ]
    },
    {
      "cell_type": "markdown",
      "id": "f0bde667",
      "metadata": {
        "id": "f0bde667"
      },
      "source": [
        "### Practical Q20. Write a Python program to visualize covariance using a heatmap."
      ]
    },
    {
      "cell_type": "code",
      "execution_count": null,
      "id": "d415fe1b",
      "metadata": {
        "id": "d415fe1b"
      },
      "outputs": [],
      "source": [
        "import seaborn as sns, numpy as np, matplotlib.pyplot as plt\n",
        "data = np.random.randn(100, 2)\n",
        "ax = sns.heatmap(np.cov(data, rowvar=False), annot=True)\n",
        "plt.show()"
      ]
    },
    {
      "cell_type": "markdown",
      "id": "3794f1ba",
      "metadata": {
        "id": "3794f1ba"
      },
      "source": [
        "### Practical Q21. Use seaborn to create a correlation matrix for a dataset."
      ]
    },
    {
      "cell_type": "code",
      "execution_count": null,
      "id": "32c7aa9e",
      "metadata": {
        "id": "32c7aa9e"
      },
      "outputs": [],
      "source": [
        "import seaborn as sns, matplotlib.pyplot as plt\n",
        "df = sns.load_dataset('penguins').dropna()\n",
        "sns.heatmap(df.corr(), annot=True)\n",
        "plt.show()"
      ]
    },
    {
      "cell_type": "markdown",
      "id": "26416a3b",
      "metadata": {
        "id": "26416a3b"
      },
      "source": [
        "### Practical Q22. Generate a dataset and implement both variance and standard deviation computations."
      ]
    },
    {
      "cell_type": "code",
      "execution_count": null,
      "id": "1938cc95",
      "metadata": {
        "id": "1938cc95"
      },
      "outputs": [],
      "source": [
        "import numpy as np\n",
        "x = np.random.randn(100)\n",
        "print('Variance:', np.var(x, ddof=1), 'SD:', np.std(x, ddof=1))"
      ]
    },
    {
      "cell_type": "markdown",
      "id": "20e661be",
      "metadata": {
        "id": "20e661be"
      },
      "source": [
        "### Practical Q23. Visualize skewness and kurtosis using Python libraries like matplotlib or seaborn."
      ]
    },
    {
      "cell_type": "code",
      "execution_count": null,
      "id": "01adda1e",
      "metadata": {
        "id": "01adda1e"
      },
      "outputs": [],
      "source": [
        "import seaborn as sns, matplotlib.pyplot as plt, numpy as np\n",
        "data = np.random.exponential(size=1000)\n",
        "sns.histplot(data, kde=True)\n",
        "plt.show()"
      ]
    },
    {
      "cell_type": "markdown",
      "id": "3b49d98d",
      "metadata": {
        "id": "3b49d98d"
      },
      "source": [
        "### Practical Q24. Implement the Pearson and Spearman correlation coefficients for a dataset."
      ]
    },
    {
      "cell_type": "code",
      "execution_count": null,
      "id": "75a1f47a",
      "metadata": {
        "id": "75a1f47a"
      },
      "outputs": [],
      "source": [
        "import scipy.stats as stats, numpy as np\n",
        "x = np.random.randn(50)\n",
        "y = np.random.randn(50)\n",
        "print('Pearson:', stats.pearsonr(x, y)[0])\n",
        "print('Spearman:', stats.spearmanr(x, y)[0])"
      ]
    }
  ],
  "metadata": {
    "colab": {
      "provenance": []
    }
  },
  "nbformat": 4,
  "nbformat_minor": 5
}